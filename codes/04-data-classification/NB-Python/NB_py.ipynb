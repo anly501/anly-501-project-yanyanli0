{
 "cells": [
  {
   "cell_type": "markdown",
   "metadata": {},
   "source": [
    "## Prepare the data "
   ]
  },
  {
   "cell_type": "code",
   "execution_count": 1,
   "metadata": {},
   "outputs": [],
   "source": [
    "import pandas as pd\n",
    "import numpy as np\n",
    "import matplotlib.pyplot as plt\n",
    "import seaborn as sns"
   ]
  },
  {
   "cell_type": "code",
   "execution_count": 2,
   "metadata": {},
   "outputs": [
    {
     "data": {
      "text/html": [
       "<div>\n",
       "<style scoped>\n",
       "    .dataframe tbody tr th:only-of-type {\n",
       "        vertical-align: middle;\n",
       "    }\n",
       "\n",
       "    .dataframe tbody tr th {\n",
       "        vertical-align: top;\n",
       "    }\n",
       "\n",
       "    .dataframe thead th {\n",
       "        text-align: right;\n",
       "    }\n",
       "</style>\n",
       "<table border=\"1\" class=\"dataframe\">\n",
       "  <thead>\n",
       "    <tr style=\"text-align: right;\">\n",
       "      <th></th>\n",
       "      <th>Unnamed: 0</th>\n",
       "      <th>Date</th>\n",
       "      <th>Language</th>\n",
       "      <th>Text</th>\n",
       "      <th>clean_text</th>\n",
       "      <th>tone</th>\n",
       "    </tr>\n",
       "  </thead>\n",
       "  <tbody>\n",
       "    <tr>\n",
       "      <th>0</th>\n",
       "      <td>0</td>\n",
       "      <td>2022-09-11 22:22:28+00:00</td>\n",
       "      <td>en</td>\n",
       "      <td>All the medical pain and all the taxes spent p...</td>\n",
       "      <td>medical pain taxes spent putting people jail s...</td>\n",
       "      <td>-0.9531</td>\n",
       "    </tr>\n",
       "    <tr>\n",
       "      <th>1</th>\n",
       "      <td>1</td>\n",
       "      <td>2022-09-11 22:21:26+00:00</td>\n",
       "      <td>en</td>\n",
       "      <td>A good way to clean up your follower list is t...</td>\n",
       "      <td>good way clean follower list app called see fo...</td>\n",
       "      <td>0.9184</td>\n",
       "    </tr>\n",
       "    <tr>\n",
       "      <th>2</th>\n",
       "      <td>2</td>\n",
       "      <td>2022-09-11 22:12:16+00:00</td>\n",
       "      <td>en</td>\n",
       "      <td>@1zzyzyx1 @MeidasTouch @CharlieCrist legalize ...</td>\n",
       "      <td>legalize marijuana remove barriers desantis p...</td>\n",
       "      <td>-0.4404</td>\n",
       "    </tr>\n",
       "    <tr>\n",
       "      <th>3</th>\n",
       "      <td>3</td>\n",
       "      <td>2022-09-11 22:11:15+00:00</td>\n",
       "      <td>en</td>\n",
       "      <td>RT @snoopdoggslungz: 📸 Chem D\\n🌱(ig) https://t...</td>\n",
       "      <td>rt chem d ig</td>\n",
       "      <td>0.0000</td>\n",
       "    </tr>\n",
       "    <tr>\n",
       "      <th>4</th>\n",
       "      <td>4</td>\n",
       "      <td>2022-09-11 22:06:53+00:00</td>\n",
       "      <td>en</td>\n",
       "      <td>@BabzOnTheMic Off the weed bro. That’s 4 strai...</td>\n",
       "      <td>weed bro thats straight losses miami pats lon...</td>\n",
       "      <td>-0.6369</td>\n",
       "    </tr>\n",
       "    <tr>\n",
       "      <th>...</th>\n",
       "      <td>...</td>\n",
       "      <td>...</td>\n",
       "      <td>...</td>\n",
       "      <td>...</td>\n",
       "      <td>...</td>\n",
       "      <td>...</td>\n",
       "    </tr>\n",
       "    <tr>\n",
       "      <th>2495</th>\n",
       "      <td>2495</td>\n",
       "      <td>2022-09-07 21:20:14+00:00</td>\n",
       "      <td>en</td>\n",
       "      <td>I just caught someone smoking their weed pen i...</td>\n",
       "      <td>caught someone smoking weed pen class hahahaha...</td>\n",
       "      <td>0.4019</td>\n",
       "    </tr>\n",
       "    <tr>\n",
       "      <th>2496</th>\n",
       "      <td>2496</td>\n",
       "      <td>2022-09-07 21:17:48+00:00</td>\n",
       "      <td>en</td>\n",
       "      <td>@AesPolitics And research shows black and brow...</td>\n",
       "      <td>research shows black brown people disproporti...</td>\n",
       "      <td>0.0000</td>\n",
       "    </tr>\n",
       "    <tr>\n",
       "      <th>2497</th>\n",
       "      <td>2497</td>\n",
       "      <td>2022-09-07 21:17:39+00:00</td>\n",
       "      <td>en</td>\n",
       "      <td>Smoke weed “ your not responsible and mentally...</td>\n",
       "      <td>smoke weed responsible mentally sick sober ser...</td>\n",
       "      <td>-0.8625</td>\n",
       "    </tr>\n",
       "    <tr>\n",
       "      <th>2498</th>\n",
       "      <td>2498</td>\n",
       "      <td>2022-09-07 21:09:58+00:00</td>\n",
       "      <td>en</td>\n",
       "      <td>People who call weed, cannabis. https://t.co/m...</td>\n",
       "      <td>people call weed cannabis</td>\n",
       "      <td>0.0000</td>\n",
       "    </tr>\n",
       "    <tr>\n",
       "      <th>2499</th>\n",
       "      <td>2499</td>\n",
       "      <td>2022-09-07 21:09:43+00:00</td>\n",
       "      <td>en</td>\n",
       "      <td>You were coughing when you hit my weed, but I’...</td>\n",
       "      <td>coughing hit weed ive never seen feel free</td>\n",
       "      <td>-0.4023</td>\n",
       "    </tr>\n",
       "  </tbody>\n",
       "</table>\n",
       "<p>2500 rows × 6 columns</p>\n",
       "</div>"
      ],
      "text/plain": [
       "      Unnamed: 0                       Date Language  \\\n",
       "0              0  2022-09-11 22:22:28+00:00       en   \n",
       "1              1  2022-09-11 22:21:26+00:00       en   \n",
       "2              2  2022-09-11 22:12:16+00:00       en   \n",
       "3              3  2022-09-11 22:11:15+00:00       en   \n",
       "4              4  2022-09-11 22:06:53+00:00       en   \n",
       "...          ...                        ...      ...   \n",
       "2495        2495  2022-09-07 21:20:14+00:00       en   \n",
       "2496        2496  2022-09-07 21:17:48+00:00       en   \n",
       "2497        2497  2022-09-07 21:17:39+00:00       en   \n",
       "2498        2498  2022-09-07 21:09:58+00:00       en   \n",
       "2499        2499  2022-09-07 21:09:43+00:00       en   \n",
       "\n",
       "                                                   Text  \\\n",
       "0     All the medical pain and all the taxes spent p...   \n",
       "1     A good way to clean up your follower list is t...   \n",
       "2     @1zzyzyx1 @MeidasTouch @CharlieCrist legalize ...   \n",
       "3     RT @snoopdoggslungz: 📸 Chem D\\n🌱(ig) https://t...   \n",
       "4     @BabzOnTheMic Off the weed bro. That’s 4 strai...   \n",
       "...                                                 ...   \n",
       "2495  I just caught someone smoking their weed pen i...   \n",
       "2496  @AesPolitics And research shows black and brow...   \n",
       "2497  Smoke weed “ your not responsible and mentally...   \n",
       "2498  People who call weed, cannabis. https://t.co/m...   \n",
       "2499  You were coughing when you hit my weed, but I’...   \n",
       "\n",
       "                                             clean_text    tone  \n",
       "0     medical pain taxes spent putting people jail s... -0.9531  \n",
       "1     good way clean follower list app called see fo...  0.9184  \n",
       "2      legalize marijuana remove barriers desantis p... -0.4404  \n",
       "3                                         rt chem d ig   0.0000  \n",
       "4      weed bro thats straight losses miami pats lon... -0.6369  \n",
       "...                                                 ...     ...  \n",
       "2495  caught someone smoking weed pen class hahahaha...  0.4019  \n",
       "2496   research shows black brown people disproporti...  0.0000  \n",
       "2497  smoke weed responsible mentally sick sober ser... -0.8625  \n",
       "2498                         people call weed cannabis   0.0000  \n",
       "2499        coughing hit weed ive never seen feel free  -0.4023  \n",
       "\n",
       "[2500 rows x 6 columns]"
      ]
     },
     "execution_count": 2,
     "metadata": {},
     "output_type": "execute_result"
    }
   ],
   "source": [
    "df=pd.read_csv(\"clean_tweet_tone_df.csv\")\n",
    "df"
   ]
  },
  {
   "cell_type": "markdown",
   "metadata": {},
   "source": [
    "* **Select column clean_text and column tone**"
   ]
  },
  {
   "cell_type": "code",
   "execution_count": 3,
   "metadata": {},
   "outputs": [
    {
     "data": {
      "text/html": [
       "<div>\n",
       "<style scoped>\n",
       "    .dataframe tbody tr th:only-of-type {\n",
       "        vertical-align: middle;\n",
       "    }\n",
       "\n",
       "    .dataframe tbody tr th {\n",
       "        vertical-align: top;\n",
       "    }\n",
       "\n",
       "    .dataframe thead th {\n",
       "        text-align: right;\n",
       "    }\n",
       "</style>\n",
       "<table border=\"1\" class=\"dataframe\">\n",
       "  <thead>\n",
       "    <tr style=\"text-align: right;\">\n",
       "      <th></th>\n",
       "      <th>clean_text</th>\n",
       "      <th>tone</th>\n",
       "    </tr>\n",
       "  </thead>\n",
       "  <tbody>\n",
       "    <tr>\n",
       "      <th>0</th>\n",
       "      <td>medical pain taxes spent putting people jail s...</td>\n",
       "      <td>-0.9531</td>\n",
       "    </tr>\n",
       "    <tr>\n",
       "      <th>1</th>\n",
       "      <td>good way clean follower list app called see fo...</td>\n",
       "      <td>0.9184</td>\n",
       "    </tr>\n",
       "    <tr>\n",
       "      <th>2</th>\n",
       "      <td>legalize marijuana remove barriers desantis p...</td>\n",
       "      <td>-0.4404</td>\n",
       "    </tr>\n",
       "    <tr>\n",
       "      <th>3</th>\n",
       "      <td>rt chem d ig</td>\n",
       "      <td>0.0000</td>\n",
       "    </tr>\n",
       "    <tr>\n",
       "      <th>4</th>\n",
       "      <td>weed bro thats straight losses miami pats lon...</td>\n",
       "      <td>-0.6369</td>\n",
       "    </tr>\n",
       "    <tr>\n",
       "      <th>...</th>\n",
       "      <td>...</td>\n",
       "      <td>...</td>\n",
       "    </tr>\n",
       "    <tr>\n",
       "      <th>2495</th>\n",
       "      <td>caught someone smoking weed pen class hahahaha...</td>\n",
       "      <td>0.4019</td>\n",
       "    </tr>\n",
       "    <tr>\n",
       "      <th>2496</th>\n",
       "      <td>research shows black brown people disproporti...</td>\n",
       "      <td>0.0000</td>\n",
       "    </tr>\n",
       "    <tr>\n",
       "      <th>2497</th>\n",
       "      <td>smoke weed responsible mentally sick sober ser...</td>\n",
       "      <td>-0.8625</td>\n",
       "    </tr>\n",
       "    <tr>\n",
       "      <th>2498</th>\n",
       "      <td>people call weed cannabis</td>\n",
       "      <td>0.0000</td>\n",
       "    </tr>\n",
       "    <tr>\n",
       "      <th>2499</th>\n",
       "      <td>coughing hit weed ive never seen feel free</td>\n",
       "      <td>-0.4023</td>\n",
       "    </tr>\n",
       "  </tbody>\n",
       "</table>\n",
       "<p>2500 rows × 2 columns</p>\n",
       "</div>"
      ],
      "text/plain": [
       "                                             clean_text    tone\n",
       "0     medical pain taxes spent putting people jail s... -0.9531\n",
       "1     good way clean follower list app called see fo...  0.9184\n",
       "2      legalize marijuana remove barriers desantis p... -0.4404\n",
       "3                                         rt chem d ig   0.0000\n",
       "4      weed bro thats straight losses miami pats lon... -0.6369\n",
       "...                                                 ...     ...\n",
       "2495  caught someone smoking weed pen class hahahaha...  0.4019\n",
       "2496   research shows black brown people disproporti...  0.0000\n",
       "2497  smoke weed responsible mentally sick sober ser... -0.8625\n",
       "2498                         people call weed cannabis   0.0000\n",
       "2499        coughing hit weed ive never seen feel free  -0.4023\n",
       "\n",
       "[2500 rows x 2 columns]"
      ]
     },
     "execution_count": 3,
     "metadata": {},
     "output_type": "execute_result"
    }
   ],
   "source": [
    "df=df[[\"clean_text\",\"tone\"]]\n",
    "df"
   ]
  },
  {
   "cell_type": "markdown",
   "metadata": {},
   "source": [
    "* **Change values in the column tone**\n",
    "  * set value = -1 for the values in range [-1,0), represents the negative tone\n",
    "  * set value = 1 for the values in range (0,1], represents the positive tone\n",
    "  * set value = 0 for the values is equal to 0, represents the neutral tone"
   ]
  },
  {
   "cell_type": "code",
   "execution_count": 4,
   "metadata": {},
   "outputs": [
    {
     "name": "stderr",
     "output_type": "stream",
     "text": [
      "C:\\Users\\l7989\\AppData\\Local\\Temp\\ipykernel_24644\\1501309909.py:1: SettingWithCopyWarning: \n",
      "A value is trying to be set on a copy of a slice from a DataFrame.\n",
      "Try using .loc[row_indexer,col_indexer] = value instead\n",
      "\n",
      "See the caveats in the documentation: https://pandas.pydata.org/pandas-docs/stable/user_guide/indexing.html#returning-a-view-versus-a-copy\n",
      "  df['tone']=df['tone'].apply(lambda x: 0 if x == 0 else (1 if x>0 else -1) )\n"
     ]
    },
    {
     "data": {
      "text/html": [
       "<div>\n",
       "<style scoped>\n",
       "    .dataframe tbody tr th:only-of-type {\n",
       "        vertical-align: middle;\n",
       "    }\n",
       "\n",
       "    .dataframe tbody tr th {\n",
       "        vertical-align: top;\n",
       "    }\n",
       "\n",
       "    .dataframe thead th {\n",
       "        text-align: right;\n",
       "    }\n",
       "</style>\n",
       "<table border=\"1\" class=\"dataframe\">\n",
       "  <thead>\n",
       "    <tr style=\"text-align: right;\">\n",
       "      <th></th>\n",
       "      <th>clean_text</th>\n",
       "      <th>tone</th>\n",
       "    </tr>\n",
       "  </thead>\n",
       "  <tbody>\n",
       "    <tr>\n",
       "      <th>0</th>\n",
       "      <td>medical pain taxes spent putting people jail s...</td>\n",
       "      <td>-1</td>\n",
       "    </tr>\n",
       "    <tr>\n",
       "      <th>1</th>\n",
       "      <td>good way clean follower list app called see fo...</td>\n",
       "      <td>1</td>\n",
       "    </tr>\n",
       "    <tr>\n",
       "      <th>2</th>\n",
       "      <td>legalize marijuana remove barriers desantis p...</td>\n",
       "      <td>-1</td>\n",
       "    </tr>\n",
       "    <tr>\n",
       "      <th>3</th>\n",
       "      <td>rt chem d ig</td>\n",
       "      <td>0</td>\n",
       "    </tr>\n",
       "    <tr>\n",
       "      <th>4</th>\n",
       "      <td>weed bro thats straight losses miami pats lon...</td>\n",
       "      <td>-1</td>\n",
       "    </tr>\n",
       "    <tr>\n",
       "      <th>...</th>\n",
       "      <td>...</td>\n",
       "      <td>...</td>\n",
       "    </tr>\n",
       "    <tr>\n",
       "      <th>2495</th>\n",
       "      <td>caught someone smoking weed pen class hahahaha...</td>\n",
       "      <td>1</td>\n",
       "    </tr>\n",
       "    <tr>\n",
       "      <th>2496</th>\n",
       "      <td>research shows black brown people disproporti...</td>\n",
       "      <td>0</td>\n",
       "    </tr>\n",
       "    <tr>\n",
       "      <th>2497</th>\n",
       "      <td>smoke weed responsible mentally sick sober ser...</td>\n",
       "      <td>-1</td>\n",
       "    </tr>\n",
       "    <tr>\n",
       "      <th>2498</th>\n",
       "      <td>people call weed cannabis</td>\n",
       "      <td>0</td>\n",
       "    </tr>\n",
       "    <tr>\n",
       "      <th>2499</th>\n",
       "      <td>coughing hit weed ive never seen feel free</td>\n",
       "      <td>-1</td>\n",
       "    </tr>\n",
       "  </tbody>\n",
       "</table>\n",
       "<p>2500 rows × 2 columns</p>\n",
       "</div>"
      ],
      "text/plain": [
       "                                             clean_text  tone\n",
       "0     medical pain taxes spent putting people jail s...    -1\n",
       "1     good way clean follower list app called see fo...     1\n",
       "2      legalize marijuana remove barriers desantis p...    -1\n",
       "3                                         rt chem d ig      0\n",
       "4      weed bro thats straight losses miami pats lon...    -1\n",
       "...                                                 ...   ...\n",
       "2495  caught someone smoking weed pen class hahahaha...     1\n",
       "2496   research shows black brown people disproporti...     0\n",
       "2497  smoke weed responsible mentally sick sober ser...    -1\n",
       "2498                         people call weed cannabis      0\n",
       "2499        coughing hit weed ive never seen feel free     -1\n",
       "\n",
       "[2500 rows x 2 columns]"
      ]
     },
     "execution_count": 4,
     "metadata": {},
     "output_type": "execute_result"
    }
   ],
   "source": [
    "df['tone']=df['tone'].apply(lambda x: 0 if x == 0 else (1 if x>0 else -1) )\n",
    "df"
   ]
  },
  {
   "cell_type": "markdown",
   "metadata": {},
   "source": [
    "## Data Modelling (Bayes)"
   ]
  },
  {
   "cell_type": "markdown",
   "metadata": {},
   "source": [
    "* **Vectorizer the content into numbers**"
   ]
  },
  {
   "cell_type": "code",
   "execution_count": 5,
   "metadata": {},
   "outputs": [],
   "source": [
    "from nltk import word_tokenize          \n",
    "from nltk.stem import WordNetLemmatizer \n",
    "class LemmaTokenizer(object):\n",
    "    def __init__(self):\n",
    "        self.wnl = WordNetLemmatizer()\n",
    "    def __call__(self, articles):\n",
    "        return [self.wnl.lemmatize(t) for t in word_tokenize(articles)]"
   ]
  },
  {
   "cell_type": "code",
   "execution_count": 14,
   "metadata": {},
   "outputs": [
    {
     "name": "stdout",
     "output_type": "stream",
     "text": [
      "['aahn' 'aaron' 'ab' 'abc' 'ability' 'able' 'abolished' 'abolitionism'\n",
      " 'abortion' 'abortions' 'abroad' 'absolute' 'absolutely' 'abt' 'abundance'\n",
      " 'abuse' 'abusers' 'accept' 'acceptable' 'accepted' 'accepts' 'access'\n",
      " 'accessory' 'accident' 'accomplished' 'according' 'account' 'accountant'\n",
      " 'accounts' 'accretive' 'accumulate' 'accurately' 'accustomed' 'ace'\n",
      " 'achieved' 'achievement' 'achievements' 'acid' 'acquiring' 'acquisition'\n",
      " 'acre' 'acres' 'acro' 'act' 'acted' 'acting' 'action' 'actions' 'active'\n",
      " 'activist']\n",
      "[[0 0 0 ... 0 0 0]\n",
      " [0 0 0 ... 0 0 0]\n",
      " [0 0 0 ... 0 0 0]\n",
      " ...\n",
      " [0 0 0 ... 0 0 0]\n",
      " [0 0 0 ... 0 0 0]\n",
      " [0 0 0 ... 0 0 0]]\n",
      "the shape of the matrix is  (2500, 6345)\n"
     ]
    }
   ],
   "source": [
    "from sklearn.feature_extraction.text import CountVectorizer\n",
    "corpus=df['clean_text']\n",
    "vectorizer = CountVectorizer(stop_words='english' ,lowercase=True)\n",
    "X = vectorizer.fit_transform(corpus)\n",
    "\n",
    "print(vectorizer.get_feature_names_out()[:50])\n",
    "print(X.toarray()[:20])\n",
    "\n",
    "print(\"the shape of the matrix is \",X.toarray().shape)"
   ]
  },
  {
   "cell_type": "markdown",
   "metadata": {},
   "source": [
    "* **Built up the train dataset and the test dataset**"
   ]
  },
  {
   "cell_type": "code",
   "execution_count": 26,
   "metadata": {},
   "outputs": [
    {
     "name": "stdout",
     "output_type": "stream",
     "text": [
      "X_train.shape (2000, 6345)\n",
      "y_train.shape (2000,)\n",
      "X_test.shape (500, 6345)\n",
      "y_test.shape (500,)\n"
     ]
    }
   ],
   "source": [
    "from sklearn.model_selection import train_test_split\n",
    "from sklearn.pipeline import make_pipeline\n",
    "from sklearn.feature_extraction.text import TfidfVectorizer\n",
    "\n",
    "x_train,x_test,y_train,y_test=train_test_split(X,df['tone'],test_size=0.2)\n",
    "\n",
    "print(\"X_train.shape\",x_train.shape)\n",
    "print(\"y_train.shape\",y_train.shape)\n",
    "print(\"X_test.shape\",x_test.shape)\n",
    "print(\"y_test.shape\",y_test.shape)"
   ]
  },
  {
   "cell_type": "markdown",
   "metadata": {},
   "source": [
    "* **Fit in MultinomialNB**"
   ]
  },
  {
   "cell_type": "code",
   "execution_count": 27,
   "metadata": {},
   "outputs": [
    {
     "data": {
      "text/html": [
       "<style>#sk-container-id-3 {color: black;background-color: white;}#sk-container-id-3 pre{padding: 0;}#sk-container-id-3 div.sk-toggleable {background-color: white;}#sk-container-id-3 label.sk-toggleable__label {cursor: pointer;display: block;width: 100%;margin-bottom: 0;padding: 0.3em;box-sizing: border-box;text-align: center;}#sk-container-id-3 label.sk-toggleable__label-arrow:before {content: \"▸\";float: left;margin-right: 0.25em;color: #696969;}#sk-container-id-3 label.sk-toggleable__label-arrow:hover:before {color: black;}#sk-container-id-3 div.sk-estimator:hover label.sk-toggleable__label-arrow:before {color: black;}#sk-container-id-3 div.sk-toggleable__content {max-height: 0;max-width: 0;overflow: hidden;text-align: left;background-color: #f0f8ff;}#sk-container-id-3 div.sk-toggleable__content pre {margin: 0.2em;color: black;border-radius: 0.25em;background-color: #f0f8ff;}#sk-container-id-3 input.sk-toggleable__control:checked~div.sk-toggleable__content {max-height: 200px;max-width: 100%;overflow: auto;}#sk-container-id-3 input.sk-toggleable__control:checked~label.sk-toggleable__label-arrow:before {content: \"▾\";}#sk-container-id-3 div.sk-estimator input.sk-toggleable__control:checked~label.sk-toggleable__label {background-color: #d4ebff;}#sk-container-id-3 div.sk-label input.sk-toggleable__control:checked~label.sk-toggleable__label {background-color: #d4ebff;}#sk-container-id-3 input.sk-hidden--visually {border: 0;clip: rect(1px 1px 1px 1px);clip: rect(1px, 1px, 1px, 1px);height: 1px;margin: -1px;overflow: hidden;padding: 0;position: absolute;width: 1px;}#sk-container-id-3 div.sk-estimator {font-family: monospace;background-color: #f0f8ff;border: 1px dotted black;border-radius: 0.25em;box-sizing: border-box;margin-bottom: 0.5em;}#sk-container-id-3 div.sk-estimator:hover {background-color: #d4ebff;}#sk-container-id-3 div.sk-parallel-item::after {content: \"\";width: 100%;border-bottom: 1px solid gray;flex-grow: 1;}#sk-container-id-3 div.sk-label:hover label.sk-toggleable__label {background-color: #d4ebff;}#sk-container-id-3 div.sk-serial::before {content: \"\";position: absolute;border-left: 1px solid gray;box-sizing: border-box;top: 0;bottom: 0;left: 50%;z-index: 0;}#sk-container-id-3 div.sk-serial {display: flex;flex-direction: column;align-items: center;background-color: white;padding-right: 0.2em;padding-left: 0.2em;position: relative;}#sk-container-id-3 div.sk-item {position: relative;z-index: 1;}#sk-container-id-3 div.sk-parallel {display: flex;align-items: stretch;justify-content: center;background-color: white;position: relative;}#sk-container-id-3 div.sk-item::before, #sk-container-id-3 div.sk-parallel-item::before {content: \"\";position: absolute;border-left: 1px solid gray;box-sizing: border-box;top: 0;bottom: 0;left: 50%;z-index: -1;}#sk-container-id-3 div.sk-parallel-item {display: flex;flex-direction: column;z-index: 1;position: relative;background-color: white;}#sk-container-id-3 div.sk-parallel-item:first-child::after {align-self: flex-end;width: 50%;}#sk-container-id-3 div.sk-parallel-item:last-child::after {align-self: flex-start;width: 50%;}#sk-container-id-3 div.sk-parallel-item:only-child::after {width: 0;}#sk-container-id-3 div.sk-dashed-wrapped {border: 1px dashed gray;margin: 0 0.4em 0.5em 0.4em;box-sizing: border-box;padding-bottom: 0.4em;background-color: white;}#sk-container-id-3 div.sk-label label {font-family: monospace;font-weight: bold;display: inline-block;line-height: 1.2em;}#sk-container-id-3 div.sk-label-container {text-align: center;}#sk-container-id-3 div.sk-container {/* jupyter's `normalize.less` sets `[hidden] { display: none; }` but bootstrap.min.css set `[hidden] { display: none !important; }` so we also need the `!important` here to be able to override the default hidden behavior on the sphinx rendered scikit-learn.org. See: https://github.com/scikit-learn/scikit-learn/issues/21755 */display: inline-block !important;position: relative;}#sk-container-id-3 div.sk-text-repr-fallback {display: none;}</style><div id=\"sk-container-id-3\" class=\"sk-top-container\"><div class=\"sk-text-repr-fallback\"><pre>MultinomialNB(alpha=1)</pre><b>In a Jupyter environment, please rerun this cell to show the HTML representation or trust the notebook. <br />On GitHub, the HTML representation is unable to render, please try loading this page with nbviewer.org.</b></div><div class=\"sk-container\" hidden><div class=\"sk-item\"><div class=\"sk-estimator sk-toggleable\"><input class=\"sk-toggleable__control sk-hidden--visually\" id=\"sk-estimator-id-3\" type=\"checkbox\" checked><label for=\"sk-estimator-id-3\" class=\"sk-toggleable__label sk-toggleable__label-arrow\">MultinomialNB</label><div class=\"sk-toggleable__content\"><pre>MultinomialNB(alpha=1)</pre></div></div></div></div></div>"
      ],
      "text/plain": [
       "MultinomialNB(alpha=1)"
      ]
     },
     "execution_count": 27,
     "metadata": {},
     "output_type": "execute_result"
    }
   ],
   "source": [
    "from sklearn.naive_bayes import MultinomialNB\n",
    "clf = MultinomialNB(alpha=1)\n",
    "clf.fit(x_train, y_train)"
   ]
  },
  {
   "cell_type": "markdown",
   "metadata": {},
   "source": [
    "## Model Evaluation"
   ]
  },
  {
   "cell_type": "markdown",
   "metadata": {},
   "source": [
    "* **Result Summary**"
   ]
  },
  {
   "cell_type": "code",
   "execution_count": 29,
   "metadata": {},
   "outputs": [
    {
     "name": "stdout",
     "output_type": "stream",
     "text": [
      "ACCURACY CALCULATION\n",
      "TRAINING SET:\n",
      "Accuracy: 91.15\n",
      "Number of mislabeled points out of a total 2000 points =  177\n",
      "\n",
      "TEST SET:\n",
      "Accuracy: 67.19999999999999\n",
      "Number of mislabeled points out of a total 500 points =  164\n"
     ]
    }
   ],
   "source": [
    "print(\"ACCURACY CALCULATION\")\n",
    "print(\"TRAINING SET:\")\n",
    "yp_train=clf.predict(x_train)\n",
    "train_total=len(y_train)\n",
    "wrong_train=np.count_nonzero(yp_train-y_train)\n",
    "print(\"Accuracy:\",100-(wrong_train/train_total)*100)\n",
    "print(\"Number of mislabeled points out of a total 2000 points = \",wrong_train)\n",
    "\n",
    "print()\n",
    "\n",
    "print(\"TEST SET:\")\n",
    "yp_test=clf.predict(x_test)\n",
    "test_total=len(y_test)\n",
    "wrong_test=np.count_nonzero(yp_test-y_test)\n",
    "print(\"Accuracy:\",100-(wrong_test/test_total)*100)\n",
    "print(\"Number of mislabeled points out of a total 500 points = \",wrong_test)\n",
    "\n"
   ]
  },
  {
   "cell_type": "markdown",
   "metadata": {},
   "source": [
    "* **Confusion Matrix**"
   ]
  },
  {
   "cell_type": "code",
   "execution_count": 38,
   "metadata": {},
   "outputs": [
    {
     "data": {
      "image/png": "[encoded data removed]",
      "text/plain": [
       "<Figure size 640x480 with 2 Axes>"
      ]
     },
     "metadata": {},
     "output_type": "display_data"
    }
   ],
   "source": [
    "from sklearn.metrics import confusion_matrix\n",
    "ax= plt.subplot()\n",
    "conf_mat = confusion_matrix(\n",
    "        y_test, yp_test)\n",
    "sns.heatmap(conf_mat, annot=True)\n",
    "ax.set_xlabel('Predicted', fontsize=20)\n",
    "ax.xaxis.set_label_position('top') \n",
    "ax.xaxis.set_ticklabels(['neg', 'pos','neu'], fontsize = 15)\n",
    "ax.xaxis.tick_top()\n",
    "\n",
    "ax.set_ylabel('True', fontsize=20)\n",
    "ax.yaxis.set_ticklabels(['neg', 'pos','neu'], fontsize = 15)\n",
    "plt.show()\n"
   ]
  },
  {
   "cell_type": "code",
   "execution_count": null,
   "metadata": {},
   "outputs": [],
   "source": []
  }
 ],
 "metadata": {
  "kernelspec": {
   "display_name": "Python 3.9.13 ('ANLY580')",
   "language": "python",
   "name": "python3"
  },
  "language_info": {
   "codemirror_mode": {
    "name": "ipython",
    "version": 3
   },
   "file_extension": ".py",
   "mimetype": "text/x-python",
   "name": "python",
   "nbconvert_exporter": "python",
   "pygments_lexer": "ipython3",
   "version": "3.9.13"
  },
  "orig_nbformat": 4,
  "vscode": {
   "interpreter": {
    "hash": "82a0c140f74674d75fe046ad4b0d772814b698f41140d969a2973e1303487b7d"
   }
  }
 },
 "nbformat": 4,
 "nbformat_minor": 2
}
